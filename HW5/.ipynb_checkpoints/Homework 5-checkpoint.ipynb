{
 "cells": [
  {
   "cell_type": "markdown",
   "metadata": {},
   "source": [
    "# Introduction to Data Science\n",
    "## Homework 5"
   ]
  },
  {
   "cell_type": "markdown",
   "metadata": {},
   "source": [
    "Student Name: Ruofan Wang\n",
    "\n",
    "Student Netid: rw2268\n",
    "***"
   ]
  },
  {
   "cell_type": "markdown",
   "metadata": {},
   "source": [
    "### Part 1: Naive Bayes (5 Points)"
   ]
  },
  {
   "cell_type": "markdown",
   "metadata": {},
   "source": [
    "1\\. From your reading you know that the naive Bayes classifier works by calculating the conditional probabilities of each feature, $e_i$, occuring with each class $c$ and treating them independently. This results in the probability of a certain class occuring given a set of features, or a piece of evidence, $E$, as\n",
    "\n",
    "$$P(c \\mid E) = \\frac{p(e_1 \\mid c) \\cdot p(e_2 \\mid c) \\cdot \\cdot \\cdot p(e_k \\mid c) \\cdot p(c)}{p(E)}.$$\n",
    "\n",
    "The conditional probability of each piece of evidence occuring with a given class is given by\n",
    "\n",
    "$$P(e_i \\mid c) = \\frac{\\text{count}(e_i, c)}{\\text{count}(c)}.$$\n",
    "\n",
    "In the above equation $\\text{count}(e_i, c)$ is the number of documents in a given class that contain feature $e_i$ and $\\text{count}(c)$ is the number of documents that belong to class $c$. \n",
    "\n",
    "A common variation of the above is to use Laplace (sometimes called +1) smoothing. Recall the use of Laplace smoothing introduced toward the end of Chapter 3 in the section Probability Estimation. This is done in sklearn by setting `alpha=1` in the `BernoulliNB()` function (this is also the default behavior). The result of Laplace smoothing will slightly change the conditional probabilities,\n",
    "\n",
    "$$P(e_i \\mid c) = \\frac{\\text{count}(e_i, c) + 1}{\\text{count}(c) + 2}.$$\n",
    "\n",
    "In no more than **one paragraph**, describe why this is useful, and use the bias-variance tradeoff to justify its use. Try to think of a case when not using Laplace smoothing would result in \"bad\" models. Try to give an example. Be precise."
   ]
  },
  {
   "cell_type": "markdown",
   "metadata": {},
   "source": [
    "Answer here!"
   ]
  },
  {
   "cell_type": "markdown",
   "metadata": {},
   "source": [
    "I think Laplace smoothing is useful when there is a $\\text{count}(e_i, c)$ is 0, which means that there is a word in the test documents which doesn't appear in any training document. If we do not use the Laplace smoothing, the probability will be zero, which does not make any sense. SO we can use Laplace smoothing to avoid these situations. It will increase bias and reduce the variance of our model to make it more robust."
   ]
  },
  {
   "cell_type": "markdown",
   "metadata": {},
   "source": [
    "### Part 2: Text classification for sentiment analysis (20 Points)\n",
    "For this part of the assignment, we are going to use a data set of movie ratings from IMDB.com. The data consists of the text of a movie review and a target variable which tells us whether the reviewer had a positive feeling towards the movie (equivalent to rating the movie between 7 and 10) or a negative feeling (rating the movie between 1 and 4). Neutral reactions are not included in the data.\n",
    "\n",
    "The data are located in \"`data/imdb.csv`\". The first column is the review text; the second is the text label 'P' for positive or 'N' for negative."
   ]
  },
  {
   "cell_type": "markdown",
   "metadata": {},
   "source": [
    "1 (1 Point) \\. Load the data into a pandas `DataFrame()`."
   ]
  },
  {
   "cell_type": "code",
   "execution_count": 1,
   "metadata": {
    "collapsed": false
   },
   "outputs": [
    {
     "data": {
      "text/html": [
       "<div>\n",
       "<table border=\"1\" class=\"dataframe\">\n",
       "  <thead>\n",
       "    <tr style=\"text-align: right;\">\n",
       "      <th></th>\n",
       "      <th>Text</th>\n",
       "      <th>Class</th>\n",
       "    </tr>\n",
       "  </thead>\n",
       "  <tbody>\n",
       "    <tr>\n",
       "      <th>0</th>\n",
       "      <td>'One of the first of the best musicals Anchors...</td>\n",
       "      <td>P</td>\n",
       "    </tr>\n",
       "    <tr>\n",
       "      <th>1</th>\n",
       "      <td>'Visually disjointed and full of itself the di...</td>\n",
       "      <td>N</td>\n",
       "    </tr>\n",
       "    <tr>\n",
       "      <th>2</th>\n",
       "      <td>'These type of movies about young teenagers st...</td>\n",
       "      <td>P</td>\n",
       "    </tr>\n",
       "    <tr>\n",
       "      <th>3</th>\n",
       "      <td>'I would rather of had my eyes gouged out with...</td>\n",
       "      <td>N</td>\n",
       "    </tr>\n",
       "    <tr>\n",
       "      <th>4</th>\n",
       "      <td>'The title says it all. Tail Gunner Joe was a ...</td>\n",
       "      <td>N</td>\n",
       "    </tr>\n",
       "  </tbody>\n",
       "</table>\n",
       "</div>"
      ],
      "text/plain": [
       "                                                Text Class\n",
       "0  'One of the first of the best musicals Anchors...     P\n",
       "1  'Visually disjointed and full of itself the di...     N\n",
       "2  'These type of movies about young teenagers st...     P\n",
       "3  'I would rather of had my eyes gouged out with...     N\n",
       "4  'The title says it all. Tail Gunner Joe was a ...     N"
      ]
     },
     "execution_count": 1,
     "metadata": {},
     "output_type": "execute_result"
    }
   ],
   "source": [
    "import pandas as pd\n",
    "data = pd.read_csv(\"imdb.csv\")\n",
    "data = data.dropna()\n",
    "data.head()"
   ]
  },
  {
   "cell_type": "markdown",
   "metadata": {},
   "source": [
    "2 (1 Point)\\. Code the target variable to be numeric: use the value `1` to represent 'P' and `0` to represent 'N'."
   ]
  },
  {
   "cell_type": "code",
   "execution_count": 2,
   "metadata": {
    "collapsed": false
   },
   "outputs": [
    {
     "data": {
      "text/html": [
       "<div>\n",
       "<table border=\"1\" class=\"dataframe\">\n",
       "  <thead>\n",
       "    <tr style=\"text-align: right;\">\n",
       "      <th></th>\n",
       "      <th>Text</th>\n",
       "      <th>Class</th>\n",
       "    </tr>\n",
       "  </thead>\n",
       "  <tbody>\n",
       "    <tr>\n",
       "      <th>0</th>\n",
       "      <td>'One of the first of the best musicals Anchors...</td>\n",
       "      <td>1</td>\n",
       "    </tr>\n",
       "    <tr>\n",
       "      <th>1</th>\n",
       "      <td>'Visually disjointed and full of itself the di...</td>\n",
       "      <td>0</td>\n",
       "    </tr>\n",
       "    <tr>\n",
       "      <th>2</th>\n",
       "      <td>'These type of movies about young teenagers st...</td>\n",
       "      <td>1</td>\n",
       "    </tr>\n",
       "    <tr>\n",
       "      <th>3</th>\n",
       "      <td>'I would rather of had my eyes gouged out with...</td>\n",
       "      <td>0</td>\n",
       "    </tr>\n",
       "    <tr>\n",
       "      <th>4</th>\n",
       "      <td>'The title says it all. Tail Gunner Joe was a ...</td>\n",
       "      <td>0</td>\n",
       "    </tr>\n",
       "  </tbody>\n",
       "</table>\n",
       "</div>"
      ],
      "text/plain": [
       "                                                Text  Class\n",
       "0  'One of the first of the best musicals Anchors...      1\n",
       "1  'Visually disjointed and full of itself the di...      0\n",
       "2  'These type of movies about young teenagers st...      1\n",
       "3  'I would rather of had my eyes gouged out with...      0\n",
       "4  'The title says it all. Tail Gunner Joe was a ...      0"
      ]
     },
     "execution_count": 2,
     "metadata": {},
     "output_type": "execute_result"
    }
   ],
   "source": [
    "# Code here\n",
    "data['Class'] = data.apply(lambda x : 1 if x[\"Class\"] == \"P\" else 0, axis = 1)\n",
    "data.head()"
   ]
  },
  {
   "cell_type": "markdown",
   "metadata": {},
   "source": [
    "3 (2 Points)\\. Put all of the text into a data frame called `X` and the target variable in a data frame called `Y`. Make a train/test split where you give 75% of the data to training. Feel free to use any function from sklearn."
   ]
  },
  {
   "cell_type": "code",
   "execution_count": 3,
   "metadata": {
    "collapsed": false
   },
   "outputs": [
    {
     "name": "stderr",
     "output_type": "stream",
     "text": [
      "/Users/wangruofan/anaconda/lib/python3.6/site-packages/sklearn/cross_validation.py:44: DeprecationWarning: This module was deprecated in version 0.18 in favor of the model_selection module into which all the refactored classes and functions are moved. Also note that the interface of the new CV iterators are different from that of this module. This module will be removed in 0.20.\n",
      "  \"This module will be removed in 0.20.\", DeprecationWarning)\n"
     ]
    }
   ],
   "source": [
    "from sklearn.cross_validation import train_test_split\n",
    "\n",
    "X = pd.DataFrame(data['Text'])\n",
    "Y = pd.DataFrame(data['Class'])\n",
    "\n",
    "X_train, X_test, Y_train, Y_test = train_test_split(X, Y, train_size = 0.75)"
   ]
  },
  {
   "cell_type": "code",
   "execution_count": 4,
   "metadata": {
    "collapsed": false
   },
   "outputs": [
    {
     "data": {
      "text/html": [
       "<div>\n",
       "<table border=\"1\" class=\"dataframe\">\n",
       "  <thead>\n",
       "    <tr style=\"text-align: right;\">\n",
       "      <th></th>\n",
       "      <th>Class</th>\n",
       "    </tr>\n",
       "  </thead>\n",
       "  <tbody>\n",
       "    <tr>\n",
       "      <th>3142</th>\n",
       "      <td>1</td>\n",
       "    </tr>\n",
       "    <tr>\n",
       "      <th>2448</th>\n",
       "      <td>1</td>\n",
       "    </tr>\n",
       "    <tr>\n",
       "      <th>1452</th>\n",
       "      <td>1</td>\n",
       "    </tr>\n",
       "    <tr>\n",
       "      <th>6021</th>\n",
       "      <td>0</td>\n",
       "    </tr>\n",
       "    <tr>\n",
       "      <th>944</th>\n",
       "      <td>0</td>\n",
       "    </tr>\n",
       "  </tbody>\n",
       "</table>\n",
       "</div>"
      ],
      "text/plain": [
       "      Class\n",
       "3142      1\n",
       "2448      1\n",
       "1452      1\n",
       "6021      0\n",
       "944       0"
      ]
     },
     "execution_count": 4,
     "metadata": {},
     "output_type": "execute_result"
    }
   ],
   "source": [
    "Y_train.head()"
   ]
  },
  {
   "cell_type": "markdown",
   "metadata": {},
   "source": [
    "4 (5 Points)\\. Create a binary `CountVectorizer()` and a binary `TfidfVectorizer()`. Use the original single words as well as bigrams (in the same model). Also, use an \"english\" stop word list. Fit these to the training data to extract a vocabulary and then transform both the train and test data. Hint - look at the API documentation for both vectorizers to see what we mean by \"binary.\""
   ]
  },
  {
   "cell_type": "code",
   "execution_count": 5,
   "metadata": {
    "collapsed": true
   },
   "outputs": [],
   "source": [
    "from sklearn.feature_extraction.text import CountVectorizer\n",
    "from sklearn.feature_extraction.text import TfidfVectorizer\n",
    "\n",
    "binary_vec = CountVectorizer(binary=True,stop_words='english',ngram_range=(1,2))\n",
    "X_train_binary = binary_vec.fit_transform(X_train['Text'])\n",
    "X_test_binary = binary_vec.transform(X_test['Text'])\n",
    "\n",
    "tfidf_vec = TfidfVectorizer(stop_words='english',ngram_range=(1,2))\n",
    "X_train_tfidf = tfidf_vec.fit_transform(X_train['Text'])\n",
    "X_test_tfidf = tfidf_vec.transform(X_test['Text'])\n"
   ]
  },
  {
   "cell_type": "code",
   "execution_count": 6,
   "metadata": {
    "collapsed": false
   },
   "outputs": [
    {
     "name": "stdout",
     "output_type": "stream",
     "text": [
      "  (0, 571594)\t0.0727838008774\n",
      "  (0, 571407)\t0.0331541167762\n",
      "  (0, 571321)\t0.0747764190454\n",
      "  (0, 571291)\t0.0436213559144\n",
      "  (0, 569958)\t0.0348202844193\n",
      "  (0, 569237)\t0.0260617154277\n",
      "  (0, 567990)\t0.0727838008774\n",
      "  (0, 567755)\t0.0329661149028\n",
      "  (0, 564026)\t0.0282569624324\n",
      "  (0, 563887)\t0.0747764190454\n",
      "  (0, 563760)\t0.0363120371595\n",
      "  (0, 562565)\t0.0263822305857\n",
      "  (0, 561592)\t0.0360746873957\n",
      "  (0, 560401)\t0.0356181146461\n",
      "  (0, 555269)\t0.0467772108972\n",
      "  (0, 547924)\t0.0314141435054\n",
      "  (0, 547470)\t0.0675350075313\n",
      "  (0, 547467)\t0.0595534291791\n",
      "  (0, 547266)\t0.0773453506626\n",
      "  (0, 545857)\t0.0697791848455\n",
      "  (0, 545597)\t0.0271673158856\n",
      "  (0, 541485)\t0.0531631146148\n",
      "  (0, 535686)\t0.0408335879567\n",
      "  (0, 525781)\t0.0773453506626\n",
      "  (0, 525670)\t0.0363723735995\n",
      "  :\t:\n",
      "  (2124, 320770)\t0.169058378899\n",
      "  (2124, 313782)\t0.159309763759\n",
      "  (2124, 301954)\t0.0725279150671\n",
      "  (2124, 279690)\t0.173686727422\n",
      "  (2124, 253296)\t0.111038360591\n",
      "  (2124, 228959)\t0.120090550508\n",
      "  (2124, 209784)\t0.0790690457961\n",
      "  (2124, 195337)\t0.0957944586834\n",
      "  (2124, 189491)\t0.188063691085\n",
      "  (2124, 189490)\t0.162079415044\n",
      "  (2124, 187096)\t0.053849123175\n",
      "  (2124, 179621)\t0.0839288419192\n",
      "  (2124, 171608)\t0.173686727422\n",
      "  (2124, 171223)\t0.0645840528567\n",
      "  (2124, 143998)\t0.114025963874\n",
      "  (2124, 121990)\t0.0801814611158\n",
      "  (2124, 108235)\t0.242598278776\n",
      "  (2124, 107502)\t0.123950604746\n",
      "  (2124, 73689)\t0.188063691085\n",
      "  (2124, 73680)\t0.156866758187\n",
      "  (2124, 66244)\t0.173686727422\n",
      "  (2124, 66242)\t0.318619527517\n",
      "  (2124, 43469)\t0.173686727422\n",
      "  (2124, 43449)\t0.104204443301\n",
      "  (2124, 20164)\t0.170544073095\n"
     ]
    }
   ],
   "source": [
    "print(X_test_tfidf)"
   ]
  },
  {
   "cell_type": "markdown",
   "metadata": {},
   "source": [
    "5 (6 Points)\\. Create `LogisticRegression()` and `BernoulliNB()` models. For all settings, keep the default values. In a single plot, show the AUC curve for both classifiers and both vectorizers defined above. In the legend, include the area under the ROC curve (AUC). Do not forget to label your axes. Your final plot will be a single window with 4 curves.\n",
    "\n",
    "Which model do you think does a better job? Why? Explain in no more than a paragraph.\n",
    "\n",
    "Extra credit (2 points): Do any of the options perform identically? If so, can you explain why?"
   ]
  },
  {
   "cell_type": "code",
   "execution_count": 7,
   "metadata": {
    "collapsed": false
   },
   "outputs": [],
   "source": [
    "# Run this so your plots show properly\n",
    "import matplotlib.pyplot as plt\n",
    "%matplotlib inline\n",
    "plt.rcParams['figure.figsize'] = 12, 12\n"
   ]
  },
  {
   "cell_type": "code",
   "execution_count": 8,
   "metadata": {
    "collapsed": false
   },
   "outputs": [
    {
     "data": {
      "image/png": "[encoded data removed]",
      "text/plain": [
       "<matplotlib.figure.Figure at 0x105a28908>"
      ]
     },
     "metadata": {},
     "output_type": "display_data"
    }
   ],
   "source": [
    "from sklearn.linear_model import LogisticRegression\n",
    "from sklearn.naive_bayes import BernoulliNB\n",
    "from sklearn import metrics\n",
    "import numpy as np\n",
    "plt.title(\"AUC\")\n",
    "data = [(X_train_binary, X_test_binary, 'binary'), (X_train_tfidf, X_test_tfidf, 'tfidf')]\n",
    "lg = LogisticRegression()\n",
    "for xtrain, xtest, label in data:\n",
    "    lg.fit(xtrain, Y_train['Class'])\n",
    "    y_hat = lg.predict_proba(xtest)[:,1]\n",
    "    fpr, tpr, threshold = metrics.roc_curve(Y_test['Class'], y_hat)\n",
    "    score = metrics.roc_auc_score(Y_test['Class'], y_hat)\n",
    "    randc = (np.random.rand(), np.random.rand(), np.random.rand())\n",
    "    plt.plot(fpr, tpr, color=randc, label=\"LR \" + label + \", auc: \"+ str(score))\n",
    "ber = BernoulliNB()\n",
    "for xtrain, xtest, label in data:\n",
    "    ber.fit(xtrain, Y_train['Class'])\n",
    "    y_hat = ber.predict_proba(xtest)[:,1]\n",
    "    fpr, tpr, threshold = metrics.roc_curve(Y_test['Class'], y_hat)\n",
    "    score = metrics.roc_auc_score(Y_test['Class'], y_hat)\n",
    "    randc = (np.random.rand(), np.random.rand(), np.random.rand())\n",
    "    plt.plot(fpr, tpr, color=randc, label=\"Bern \" + label + \", auc: \"+ str(score))\n",
    "    \n",
    "plt.legend()\n",
    "plt.show()\n",
    "# Code here"
   ]
  },
  {
   "cell_type": "markdown",
   "metadata": {},
   "source": [
    "Explanation here!"
   ]
  },
  {
   "cell_type": "markdown",
   "metadata": {},
   "source": [
    "<ol>\n",
    "    <li> I think Logistic Regression performs better. According to the graph, LR on binary sets obtains the highest AUC score. The BernoulliNB is not that good, because it assumes that all variables are independent. But it is obvious that the words cannot independently appear.<hr>\n",
    "    <li> The BernoulliNB on binary sets and tfidf sets are identical. Because the target variable is binary. And the BernoulliNB will treat every none-zero number in tfidf as 1, which yields the same result as binary sets. \n",
    "    \n",
    "</ol>"
   ]
  },
  {
   "cell_type": "markdown",
   "metadata": {
    "collapsed": true
   },
   "source": [
    "5\\. Use the model from question 4 that you think did the best job and predict the rating of the test data. Find 5 examples the should have been positive, but were incorrectly classified as negative. Print out the reviews below and include an explanation as to why you think it may have been incorrectly classified. You can pick any 5. They do not have to be at random."
   ]
  },
  {
   "cell_type": "code",
   "execution_count": 9,
   "metadata": {
    "collapsed": false
   },
   "outputs": [
    {
     "data": {
      "text/plain": [
       "LogisticRegression(C=1.0, class_weight=None, dual=False, fit_intercept=True,\n",
       "          intercept_scaling=1, max_iter=100, multi_class='ovr', n_jobs=1,\n",
       "          penalty='l2', random_state=None, solver='liblinear', tol=0.0001,\n",
       "          verbose=0, warm_start=False)"
      ]
     },
     "execution_count": 9,
     "metadata": {},
     "output_type": "execute_result"
    }
   ],
   "source": [
    "# Code here to display 5 incorrect reviews.\n",
    "\n",
    "lr = LogisticRegression()\n",
    "lr.fit(X_train_binary, Y_train['Class'])"
   ]
  },
  {
   "cell_type": "code",
   "execution_count": 82,
   "metadata": {
    "collapsed": false
   },
   "outputs": [
    {
     "name": "stdout",
     "output_type": "stream",
     "text": [
      "'There seems to be only two types of reviews of this film on the net. Those who hate it and curse Ralph Bakshis name and those love it and call it work of genious. Im inclined to be in the middle. Iam forced to agree with most of the criticisms of this film (e.g.the cruel cutting of the story badly rotoscoped charecters over acting etc...) But dispite this I still love this film. The rotoscoping (when done properly)adds an eerie lifelike dimension to the charecters and the final battle scene at the end of the film is fantastic. The surrealistic scenes when the nineriders chase Frodo are stylish and well executed and the musical score... magic. Sadly the bad points outweight film but if you can bring yourself to ignore them it is a great film. (No doubt Ill be lynched by an angry mob of people who hate this film after writing this review ah well such is life)'\n",
      "\n",
      "\n",
      "'Shot into car from through the windscreen someone is playing someone else their latest song someone else didnt react according to the voice-over. I just wonder how that came to be made. There were too many scenes in this movie that I wondered about how come a camera was there. If the scenes shot where the Warhols descended on a BJM post-party are true then that was inexcusable exploitation to the max if not then it was a total fabrication either way it made me uncomfortable if that was the purpose? All the way thru this movie I kept wondering how the footage came about. Taken at face value a nice portrait of the (tortured) genius we all believe ourselves to be.'\n",
      "\n",
      "\n",
      "'After tracking it down for half a year I finally found a copy and it was not disappointing. Not disappointing because Im one of those die hard SMAP fans who need to see all their works and I finally got to see the so called hot film of Goro. But I couldnt believe Goro was forced to make a movie as such. In his respectable self now Im sure he cringes that he made this movie. Nevertheless they found the perfect person for looking embarrassed ill at ease and half depressed most of the time. Man I still cant believe he made this movie...I had to cover my eyes at many parts not believing he really made such a movie....hahahaha.... But Im glad to have watched it. Thank goodness he has grown up....'\n",
      "\n",
      "\n",
      "'Ive heard people who say this movie is dull dull dull. I dont think they were watching the right movie. This isnt the prototypical action movie thank God. This is a psychological drama about the rookie and his mentor that just happens to be about killing people. In this way it works extremely well with terrific performances from Berenger and Zane (who doesnt sleepwalk through the movie like he has in other roles - he actually looks like hes acting). I was disappointed with the action towards the end - a lot of it didnt make much sense and was unsatisfying given the buildup from the rest of the movie. But watch Zanes face as he panics alone while Berenger does the dirty work.'\n",
      "\n",
      "\n",
      "'The film starts in the Long Island Kennel Club where is murdered a doglater is appeared dead as a case of committing suicide a collector millionaire called Archedbut sleuth debonair Philo Vance(William Powell)to be aware of actually killing.There are many suspects : the secretary(Ralph Morgan)the butlerthe Chinese cookerthe contender(Paul Cavanagh) in kennel championship for revenge killing dog the nephew(Mary Astor) facing off her tyrant unclethe Italian man(Jack La Rue)the brotherthe attractive neighbour..Stylish Vance tries to find out who murdered tycoonappearing many clues as a book titled:Unsolved murders. The police Inspector(Eugene Palette)and a coroner are helped by Vance to investigate the mysterious death.The sympathetic forensic medic examines boring the continuous body-count .Whos the killer?.The public enjoys immensely about guess the murder.  The picture is an interesting and deliberate whodunitits a laborious and intriguing suspense tale.The personages are similar to Agatha Christie stories all they are various suspects.They are developed on a whole gallery of familiar actors well characterized from the period represented by a glittering casting to choose from their acting range from great to worst. Powell is in his habitual elegant and smart form as Philo.Hes protagonist of two famed detectives cinemathis one and elegant Nick Charles along with Nora(Mirna Loy)make the greatest marriage detectives. Special mention to Mary Astor as the niece enamored of suspect Sir Thomasshe was a noted actress of noir cinema(Maltese falcon). The movie is magnificently directed by Hollywood classic director Michael Curtiz.He directs utilizing modern techniques as the image of dead through a lock-doora split image while are speaking for phone and curtain-image.The tale is remade as ¨Calling Philo Vance¨(1940).The film is a good production Warner Bros by Vitagraph Corp.'\n",
      "\n",
      "\n"
     ]
    }
   ],
   "source": [
    "yhat = lr.predict(X_test_binary)\n",
    "count = 0\n",
    "for i in range(len(yhat)):\n",
    "    if Y_test.iloc[i,0] == 1 and yhat[i] == 0:\n",
    "        print(X_test.iloc[i].values[0])\n",
    "        print(\"\\n\")\n",
    "        count = count + 1\n",
    "    if count >= 5 :\n",
    "        break"
   ]
  },
  {
   "cell_type": "markdown",
   "metadata": {},
   "source": [
    "Explanation for the 5 reviews chosen here!"
   ]
  },
  {
   "cell_type": "markdown",
   "metadata": {
    "collapsed": true
   },
   "source": [
    "<ol>\n",
    "    <li>For the first one, I think the author spends too much on negative reviews of this film. He quotes some bad reviews containing some negative words. So it will be classified as a negative review.\n",
    "    <li>For the second one, I think it is sort of difficult to understand the author's meaning just according to the words, since most of them are neutral words, so it can make the classifier confused.\n",
    "    <li>For the third one, I think the author talks too much about his views about the director's experience. And he uses so many negative words like \"embarrassed\", \"disappointing\", which may mislead the classifier.\n",
    "    <li>For the fourth one, I think the author quotes others' negative reviews containing so many bad words like \"dull\". And although he likes this movie, he also mentions some of the drawbacks of it, I think that is another reason.\n",
    "    <li>For the fifth one, I think it also contains so many negative words, which can mislead the classifier. And he talks to much about the slots instead of his feelings.\n",
    "    \n",
    "</ol>"
   ]
  },
  {
   "cell_type": "code",
   "execution_count": null,
   "metadata": {
    "collapsed": true
   },
   "outputs": [],
   "source": []
  }
 ],
 "metadata": {
  "anaconda-cloud": {},
  "kernelspec": {
   "display_name": "Python 3",
   "language": "python",
   "name": "python3"
  },
  "language_info": {
   "codemirror_mode": {
    "name": "ipython",
    "version": 3
   },
   "file_extension": ".py",
   "mimetype": "text/x-python",
   "name": "python",
   "nbconvert_exporter": "python",
   "pygments_lexer": "ipython3",
   "version": "3.6.0"
  }
 },
 "nbformat": 4,
 "nbformat_minor": 0
}
