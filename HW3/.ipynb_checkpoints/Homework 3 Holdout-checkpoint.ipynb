{
 "cells": [
  {
   "cell_type": "markdown",
   "metadata": {},
   "source": [
    "# Introduction to Data Science\n",
    "## Homework 3"
   ]
  },
  {
   "cell_type": "markdown",
   "metadata": {},
   "source": [
    "Student Name: Ruofan Wang\n",
    "\n",
    "Student Netid: rw2268\n",
    "***"
   ]
  },
  {
   "cell_type": "markdown",
   "metadata": {},
   "source": [
    "### Part 1\n",
    "Assume that $X$ and $Y$ are discrete random variables. The formulas for Mutual Information, Entropy and Conditional Entropy are given by:\n",
    "\n",
    "$$\\text{Mutual Information} = \\sum_{y \\in Y} \\sum_{x \\in X} p(x, y) \\cdot log\\frac{p(x, y)}{p(x)p(y)}$$\n",
    "\n",
    "$$\\text{Entropy} = H(Y) = -\\sum_{y \\in Y} p(y) \\cdot log(p(y))$$\n",
    "\n",
    "$$\\text{Conditional Entropy} = H(Y \\mid X) = \\sum_{x \\in X} p(x) \\cdot H(Y \\mid X = x)$$\n",
    "\n",
    "Show mathematically that $\\text{Mutual Information} = \\text{Information Gain}$, where $\\text{Information Gain} = H(Y) – H(Y \\mid X)$. Give the derivation below (note, this can be done using Latek math notation, which renders nicely. See above. Feel free to do it by hand and submit an image of your proof)."
   ]
  },
  {
   "cell_type": "markdown",
   "metadata": {},
   "source": [
    "Place your answer here!"
   ]
  },
  {
   "cell_type": "markdown",
   "metadata": {},
   "source": [
    "![](file: ~wangruofan/Desktop/mutual info pf.jpeg) "
   ]
  },
  {
   "cell_type": "markdown",
   "metadata": {},
   "source": [
    "<img src=\"mi.jpeg\" />"
   ]
  },
  {
   "cell_type": "markdown",
   "metadata": {},
   "source": [
    "### Part 2 - Preparing a Training Set and Training a Decision Tree\n",
    "This is a hands-on task where we build a predictive model using Decision Trees discussed in class. For this part, we will be using the data in `cell2cell_data.csv`.\n",
    "\n",
    "These historical data consist of 39,859 customers: 19,901 customers that churned (i.e., left the company) and 19,958 that did not churn (see the `\"churndep\"` variable). Here are the data set's 11 possible predictor variables for churning behavior: \n",
    "\n",
    "```\n",
    "Pos.  Var. Name  Var. Description\n",
    "----- ---------- --------------------------------------------------------------\n",
    "1     revenue    Mean monthly revenue in dollars\n",
    "2     outcalls   Mean number of outbound voice calls\n",
    "3     incalls    Mean number of inbound voice calls\n",
    "4     months     Months in Service\n",
    "5     eqpdays    Number of days the customer has had his/her current equipment\n",
    "6     webcap     Handset is web capable\n",
    "7     marryyes   Married (1=Yes; 0=No)\n",
    "8     travel     Has traveled to non-US country (1=Yes; 0=No)\n",
    "9     pcown      Owns a personal computer (1=Yes; 0=No)\n",
    "10    creditcd   Possesses a credit card (1=Yes; 0=No)\n",
    "11    retcalls   Number of calls previously made to retention team\n",
    "```\n",
    "\n",
    "The 12th column, the target variable `\"churndep\"`, equals 1 if the customer churned, and 0 otherwise. "
   ]
  },
  {
   "cell_type": "markdown",
   "metadata": {},
   "source": [
    "1\\. Load the data and prepare it for modeling. Note that the features are already processed for you, so the only thing needed here is split the data into training and testing. Use pandas to create two data frames: train_df and test_df, where train_df has 80% of the data chosen uniformly at random without replacement (test_df should have the other 20%). Also, make sure to write your own code to do the splits. You may use any random() function numpy but DO NOT use the data splitting functions from Sklearn."
   ]
  },
  {
   "cell_type": "code",
   "execution_count": 13,
   "metadata": {
    "collapsed": true
   },
   "outputs": [],
   "source": [
    "import numpy as np"
   ]
  },
  {
   "cell_type": "code",
   "execution_count": 6,
   "metadata": {
    "collapsed": true
   },
   "outputs": [],
   "source": [
    "import pandas as pd\n",
    "\n",
    "# Code here\n",
    "data = pd.read_csv('cell2cell_data.csv', header=-1)"
   ]
  },
  {
   "cell_type": "code",
   "execution_count": 8,
   "metadata": {
    "collapsed": false
   },
   "outputs": [],
   "source": [
    "colname = 'revenue','outcalls','incalls','months','epqdays','webcap','marryyes','travel','pcown','creditcd','retcalls','churndep'"
   ]
  },
  {
   "cell_type": "code",
   "execution_count": 9,
   "metadata": {
    "collapsed": true
   },
   "outputs": [],
   "source": [
    "data.columns = colname"
   ]
  },
  {
   "cell_type": "code",
   "execution_count": 19,
   "metadata": {
    "collapsed": false
   },
   "outputs": [
    {
     "name": "stderr",
     "output_type": "stream",
     "text": [
      "/Users/wangruofan/anaconda/lib/python3.6/site-packages/ipykernel/__main__.py:2: FutureWarning: sort(columns=....) is deprecated, use sort_values(by=.....)\n",
      "  from ipykernel import kernelapp as app\n"
     ]
    },
    {
     "data": {
      "text/html": [
       "<div>\n",
       "<table border=\"1\" class=\"dataframe\">\n",
       "  <thead>\n",
       "    <tr style=\"text-align: right;\">\n",
       "      <th></th>\n",
       "      <th>revenue</th>\n",
       "      <th>outcalls</th>\n",
       "      <th>incalls</th>\n",
       "      <th>months</th>\n",
       "      <th>epqdays</th>\n",
       "      <th>webcap</th>\n",
       "      <th>marryyes</th>\n",
       "      <th>travel</th>\n",
       "      <th>pcown</th>\n",
       "      <th>creditcd</th>\n",
       "      <th>retcalls</th>\n",
       "      <th>churndep</th>\n",
       "      <th>rand</th>\n",
       "    </tr>\n",
       "  </thead>\n",
       "  <tbody>\n",
       "    <tr>\n",
       "      <th>3766</th>\n",
       "      <td>33.50</td>\n",
       "      <td>5.67</td>\n",
       "      <td>0.00</td>\n",
       "      <td>23</td>\n",
       "      <td>676</td>\n",
       "      <td>1</td>\n",
       "      <td>0</td>\n",
       "      <td>0</td>\n",
       "      <td>0</td>\n",
       "      <td>0</td>\n",
       "      <td>0</td>\n",
       "      <td>1</td>\n",
       "      <td>0.000045</td>\n",
       "    </tr>\n",
       "    <tr>\n",
       "      <th>2569</th>\n",
       "      <td>30.73</td>\n",
       "      <td>13.33</td>\n",
       "      <td>0.67</td>\n",
       "      <td>38</td>\n",
       "      <td>747</td>\n",
       "      <td>0</td>\n",
       "      <td>0</td>\n",
       "      <td>0</td>\n",
       "      <td>0</td>\n",
       "      <td>0</td>\n",
       "      <td>0</td>\n",
       "      <td>1</td>\n",
       "      <td>0.000072</td>\n",
       "    </tr>\n",
       "    <tr>\n",
       "      <th>19476</th>\n",
       "      <td>94.59</td>\n",
       "      <td>182.00</td>\n",
       "      <td>26.67</td>\n",
       "      <td>24</td>\n",
       "      <td>68</td>\n",
       "      <td>1</td>\n",
       "      <td>0</td>\n",
       "      <td>0</td>\n",
       "      <td>0</td>\n",
       "      <td>1</td>\n",
       "      <td>0</td>\n",
       "      <td>1</td>\n",
       "      <td>0.000181</td>\n",
       "    </tr>\n",
       "    <tr>\n",
       "      <th>38443</th>\n",
       "      <td>61.45</td>\n",
       "      <td>14.33</td>\n",
       "      <td>1.67</td>\n",
       "      <td>24</td>\n",
       "      <td>79</td>\n",
       "      <td>1</td>\n",
       "      <td>1</td>\n",
       "      <td>0</td>\n",
       "      <td>0</td>\n",
       "      <td>1</td>\n",
       "      <td>0</td>\n",
       "      <td>0</td>\n",
       "      <td>0.000199</td>\n",
       "    </tr>\n",
       "    <tr>\n",
       "      <th>38414</th>\n",
       "      <td>106.59</td>\n",
       "      <td>220.67</td>\n",
       "      <td>42.67</td>\n",
       "      <td>29</td>\n",
       "      <td>106</td>\n",
       "      <td>1</td>\n",
       "      <td>0</td>\n",
       "      <td>0</td>\n",
       "      <td>0</td>\n",
       "      <td>0</td>\n",
       "      <td>0</td>\n",
       "      <td>0</td>\n",
       "      <td>0.000218</td>\n",
       "    </tr>\n",
       "  </tbody>\n",
       "</table>\n",
       "</div>"
      ],
      "text/plain": [
       "       revenue  outcalls  incalls  months  epqdays  webcap  marryyes  travel  \\\n",
       "3766     33.50      5.67     0.00      23      676       1         0       0   \n",
       "2569     30.73     13.33     0.67      38      747       0         0       0   \n",
       "19476    94.59    182.00    26.67      24       68       1         0       0   \n",
       "38443    61.45     14.33     1.67      24       79       1         1       0   \n",
       "38414   106.59    220.67    42.67      29      106       1         0       0   \n",
       "\n",
       "       pcown  creditcd  retcalls  churndep      rand  \n",
       "3766       0         0         0         1  0.000045  \n",
       "2569       0         0         0         1  0.000072  \n",
       "19476      0         1         0         1  0.000181  \n",
       "38443      0         1         0         0  0.000199  \n",
       "38414      0         0         0         0  0.000218  "
      ]
     },
     "execution_count": 19,
     "metadata": {},
     "output_type": "execute_result"
    }
   ],
   "source": [
    "data['rand'] = np.random.rand(data.shape[0])\n",
    "data = data.sort(['rand'])\n",
    "data.head()"
   ]
  },
  {
   "cell_type": "code",
   "execution_count": 47,
   "metadata": {
    "collapsed": false
   },
   "outputs": [],
   "source": [
    "data.drop(['rand'], axis = 1, inplace=True)"
   ]
  },
  {
   "cell_type": "code",
   "execution_count": 48,
   "metadata": {
    "collapsed": false
   },
   "outputs": [],
   "source": [
    "split = int(0.8 * data.shape[0])\n",
    "train_df = data[:split]\n",
    "test_df = data[split:]"
   ]
  },
  {
   "cell_type": "code",
   "execution_count": 52,
   "metadata": {
    "collapsed": false
   },
   "outputs": [
    {
     "data": {
      "text/plain": [
       "(31887, 12)"
      ]
     },
     "execution_count": 52,
     "metadata": {},
     "output_type": "execute_result"
    }
   ],
   "source": [
    "train_df.shape"
   ]
  },
  {
   "cell_type": "code",
   "execution_count": 50,
   "metadata": {
    "collapsed": false
   },
   "outputs": [
    {
     "data": {
      "text/plain": [
       "(7972, 12)"
      ]
     },
     "execution_count": 50,
     "metadata": {},
     "output_type": "execute_result"
    }
   ],
   "source": [
    "test_df.shape"
   ]
  },
  {
   "cell_type": "markdown",
   "metadata": {},
   "source": [
    "2\\. If we had to, how would we prove to ourselves or a colleague that our data was indeed randomly sampled on X? And by prove, I mean empirically, not just showing this person our code. Don't actually do the work, just describe in your own words a test you could here. Hint: think about this in terms of selection bias and use notes from our 2nd lecture."
   ]
  },
  {
   "cell_type": "markdown",
   "metadata": {},
   "source": [
    "Ans: \n",
    "<font color=olive>We can show that for some features in this dataset, like webcap, $$P(in\\ train\\ sample|webcap = 1) \\approx P(in\\ train\\ sample) = 0.8$$\n",
    "Or we can draw a scatter plot of the index to prove they are randomly distributed, like the figures below. We can see there is no trend in them, so we can figure that the data are randomly distributed.</font>"
   ]
  },
  {
   "cell_type": "code",
   "execution_count": 71,
   "metadata": {
    "collapsed": false
   },
   "outputs": [
    {
     "data": {
      "image/png": "[encoded data removed]",
      "text/plain": [
       "<matplotlib.figure.Figure at 0x11a3fa198>"
      ]
     },
     "metadata": {},
     "output_type": "display_data"
    }
   ],
   "source": [
    "import matplotlib.pyplot as plt\n",
    "x1 = range(test_df.shape[0])\n",
    "x2 = range(train_df.shape[0])\n",
    "plt.subplot(121)\n",
    "plt.scatter(x1,test_df.index, c = 'b')\n",
    "# plt.legend('test data')\n",
    "plt.subplot(122)\n",
    "plt.scatter(x2,train_df.index, c = 'g')\n",
    "# plt.legend('train data')\n",
    "plt.tight_layout()\n",
    "plt.show()"
   ]
  },
  {
   "cell_type": "markdown",
   "metadata": {},
   "source": [
    "3\\. Now build and train a decision tree classifier using `DecisionTreeClassifier()` [(manual page)](http://scikit-learn.org/stable/modules/generated/sklearn.tree.DecisionTreeClassifier.html) on train_df to predict the `\"churndep\"` target variable. Make sure to use `criterion='entropy'` when instantiating an instance of `DecisionTreeClassifier()`. For all other settings you should use all of the default options."
   ]
  },
  {
   "cell_type": "code",
   "execution_count": 75,
   "metadata": {
    "collapsed": false
   },
   "outputs": [
    {
     "data": {
      "text/plain": [
       "DecisionTreeClassifier(class_weight=None, criterion='entropy', max_depth=None,\n",
       "            max_features=None, max_leaf_nodes=None,\n",
       "            min_impurity_split=1e-07, min_samples_leaf=1,\n",
       "            min_samples_split=2, min_weight_fraction_leaf=0.0,\n",
       "            presort=False, random_state=None, splitter='best')"
      ]
     },
     "execution_count": 75,
     "metadata": {},
     "output_type": "execute_result"
    }
   ],
   "source": [
    "import sklearn\n",
    "from sklearn.tree import DecisionTreeClassifier\n",
    "\n",
    "model = DecisionTreeClassifier(criterion='entropy')\n",
    "model.fit(train_df.drop('churndep',1), train_df.churndep)\n",
    "\n",
    "# Code here"
   ]
  },
  {
   "cell_type": "markdown",
   "metadata": {},
   "source": [
    "4\\. Using the resulting model from 2.2, show a bar plot of feature names and their feature importance (hint: check the attributes of the `DecisionTreeClassifier()` object directly in IPython or check the manual!)."
   ]
  },
  {
   "cell_type": "code",
   "execution_count": 82,
   "metadata": {
    "collapsed": false
   },
   "outputs": [
    {
     "data": {
      "text/plain": [
       "11"
      ]
     },
     "execution_count": 82,
     "metadata": {},
     "output_type": "execute_result"
    }
   ],
   "source": [
    "imp = model.feature_importances_\n",
    "len(imp)"
   ]
  },
  {
   "cell_type": "code",
   "execution_count": 89,
   "metadata": {
    "collapsed": false
   },
   "outputs": [
    {
     "data": {
      "image/png": "[encoded data removed]",
      "text/plain": [
       "<matplotlib.figure.Figure at 0x11a41af60>"
      ]
     },
     "metadata": {},
     "output_type": "display_data"
    }
   ],
   "source": [
    "import matplotlib.pyplot as plt\n",
    "%matplotlib inline\n",
    "\n",
    "feat = tuple(colname)\n",
    "y_pos = np.arange(len(feat) - 1)\n",
    "imp = list(model.feature_importances_)\n",
    "plt.bar(y_pos, imp, align='center', alpha=0.8)\n",
    "plt.xticks(y_pos, feat, rotation = 90)\n",
    "plt.ylabel('importance')\n",
    "plt.title('feature importances')\n",
    " \n",
    "plt.show()\n",
    "# Code here"
   ]
  },
  {
   "cell_type": "markdown",
   "metadata": {},
   "source": [
    "5\\. Is the relationship between the top 3 most important features (as measured here) negative or positive? If your marketing director asked you to explain the top 3 drivers of churn, how would you interpret the relationship between these 3 features and the churn outcome?  What \"real-life\" connection can you draw between each variable and churn?"
   ]
  },
  {
   "cell_type": "code",
   "execution_count": 112,
   "metadata": {
    "collapsed": false
   },
   "outputs": [],
   "source": [
    "# Code/answer here\n",
    "data_imp = data.copy()\n",
    "data_imp = data_imp[['revenue', 'epqdays', 'outcalls','churndep']]"
   ]
  },
  {
   "cell_type": "code",
   "execution_count": 113,
   "metadata": {
    "collapsed": false
   },
   "outputs": [
    {
     "data": {
      "text/html": [
       "<div>\n",
       "<table border=\"1\" class=\"dataframe\">\n",
       "  <thead>\n",
       "    <tr style=\"text-align: right;\">\n",
       "      <th></th>\n",
       "      <th>revenue</th>\n",
       "      <th>epqdays</th>\n",
       "      <th>outcalls</th>\n",
       "      <th>churndep</th>\n",
       "    </tr>\n",
       "  </thead>\n",
       "  <tbody>\n",
       "    <tr>\n",
       "      <th>revenue</th>\n",
       "      <td>1.000000</td>\n",
       "      <td>-0.221958</td>\n",
       "      <td>0.500870</td>\n",
       "      <td>-0.013566</td>\n",
       "    </tr>\n",
       "    <tr>\n",
       "      <th>epqdays</th>\n",
       "      <td>-0.221958</td>\n",
       "      <td>1.000000</td>\n",
       "      <td>-0.243999</td>\n",
       "      <td>0.112731</td>\n",
       "    </tr>\n",
       "    <tr>\n",
       "      <th>outcalls</th>\n",
       "      <td>0.500870</td>\n",
       "      <td>-0.243999</td>\n",
       "      <td>1.000000</td>\n",
       "      <td>-0.037233</td>\n",
       "    </tr>\n",
       "    <tr>\n",
       "      <th>churndep</th>\n",
       "      <td>-0.013566</td>\n",
       "      <td>0.112731</td>\n",
       "      <td>-0.037233</td>\n",
       "      <td>1.000000</td>\n",
       "    </tr>\n",
       "  </tbody>\n",
       "</table>\n",
       "</div>"
      ],
      "text/plain": [
       "           revenue   epqdays  outcalls  churndep\n",
       "revenue   1.000000 -0.221958  0.500870 -0.013566\n",
       "epqdays  -0.221958  1.000000 -0.243999  0.112731\n",
       "outcalls  0.500870 -0.243999  1.000000 -0.037233\n",
       "churndep -0.013566  0.112731 -0.037233  1.000000"
      ]
     },
     "execution_count": 113,
     "metadata": {},
     "output_type": "execute_result"
    }
   ],
   "source": [
    "data_imp.corr()"
   ]
  },
  {
   "cell_type": "markdown",
   "metadata": {},
   "source": [
    "Ans: \n",
    "<font color=olive>\n",
    "<li>between top 3 features: $$$$ The relationship between revenue and epqdays is negative: We can figure higher monthly revenue represents the user is richer, so there is more chance for him to change a new device, so the epqdays may be shorter. $$$$ Revenue and outcalls are positively related. Because if a user has high revenue, maybe he has more business operations to conduct, and there is more chance for him to reach out to many people, so the number of outcalls may be relatively large. $$$$ The relationship between epqdays and outcalls is negative, maybe because the more days a device has been used, the less outbound calls it can make. Or they are both relevant to revenue, the more epqdays, the less revenue the user has, resulting less outbound calls he makes.  \n",
    "<li>between 3 features and the churn outcome: $$$$ \n",
    "The relationship between revenue and churndep is negative, which can be explained by the more revenue one has, the more he relies on the current product and service, so he is less likely to churn.$$$$ The relationship between epqdays and churndep is positive, which means that the more days a device has been used, the more likely the user is going to churn. Maybe they need to change a device and try service from another company. $$$$ The relationship between outcalls and churndep is negative, maybe because the more outbound calls one makes, the more dependency ha has on the current product and service, so he is less probably to churn.  \n",
    "</font>"
   ]
  },
  {
   "cell_type": "markdown",
   "metadata": {},
   "source": [
    "6\\. Using the classifier built in 2.3, try predicting `\"churndep\"` on both the train_df and test_df data sets. What is the accuracy on each? If they are different, can you explain the difference?"
   ]
  },
  {
   "cell_type": "code",
   "execution_count": 118,
   "metadata": {
    "collapsed": false
   },
   "outputs": [
    {
     "name": "stdout",
     "output_type": "stream",
     "text": [
      "accuracy on train set: 0.99987455703\n",
      "accuracy on test set: 0.523833416959\n"
     ]
    }
   ],
   "source": [
    "# Code here\n",
    "from sklearn.metrics import accuracy_score\n",
    "y_train_hat = model.predict(train_df.drop('churndep',1))\n",
    "y_test_hat = model.predict(test_df.drop('churndep',1))\n",
    "print('accuracy on train set:',accuracy_score(train_df.churndep, y_train_hat))\n",
    "print('accuracy on test set:',accuracy_score(test_df.churndep, y_test_hat))"
   ]
  },
  {
   "cell_type": "markdown",
   "metadata": {},
   "source": [
    "Put your explanation here\n",
    "$$$$The decision tree performs pretty well on the training set but poor on the testing set. Because our model is trained by training data, so it is reasonable that it performs pretty well on it. But in term of test data, the accuracy cannot be fully guaranteed. Plus, we only have one model as a result, without anything else to compare with. It may be better if we have more choices."
   ]
  },
  {
   "cell_type": "markdown",
   "metadata": {},
   "source": [
    "### Part 3 - Finding a Good Decision Tree\n",
    "The default options for your decision tree may not be optimal. We need to analyze whether tuning the parameters can improve the accuracy of the classifier.  For the following options `min_samples_split` and `min_samples_leaf`:"
   ]
  },
  {
   "cell_type": "markdown",
   "metadata": {},
   "source": [
    "1\\. Generate a list of 10 values of each for the parameters mim_samples_split and min_samples_leaf. "
   ]
  },
  {
   "cell_type": "code",
   "execution_count": 280,
   "metadata": {
    "collapsed": false
   },
   "outputs": [],
   "source": [
    "# Code here\n",
    "\n",
    "min_samples_split_values = np.arange(1000, 3000, 200 ) \n",
    "min_samples_leaf_values = np.arange(602, 1002, 40) "
   ]
  },
  {
   "cell_type": "code",
   "execution_count": 281,
   "metadata": {
    "collapsed": false
   },
   "outputs": [
    {
     "data": {
      "text/plain": [
       "array([602, 642, 682, 722, 762, 802, 842, 882, 922, 962])"
      ]
     },
     "execution_count": 281,
     "metadata": {},
     "output_type": "execute_result"
    }
   ],
   "source": [
    "min_samples_leaf_values"
   ]
  },
  {
   "cell_type": "markdown",
   "metadata": {},
   "source": [
    "2\\. Explain in words your reasoning for choosing the above ranges."
   ]
  },
  {
   "cell_type": "markdown",
   "metadata": {},
   "source": [
    "<font color=olive>\n",
    "First and foremost, both value should be larger than 2. And In order to find a optimal parameter, we should try to find the global maximum accuracy, which can also be thought like a \"peak\" in the accuracy image.  $$$$ I initially choose a random list and found the accuracy keep increasing, which means that I need to enlarge the parameters to find the \"peak\". $$$$ In the process of gradually increasing the parameters, we can find a peak until some point. Then we can narrow down the range to somewhere around the optimal parameters. This is how I choose these parameters.\n",
    "</font>"
   ]
  },
  {
   "cell_type": "markdown",
   "metadata": {},
   "source": [
    "3\\. For each combination of values in 3.1 (there should be 100), build a new classifier and check the classifier's accuracy on the test data. Plot the test set accuracy for these options. Use the values of `min_samples_split` as the x-axis and generate a new series (line) for each of `min_samples_leaf`."
   ]
  },
  {
   "cell_type": "code",
   "execution_count": 282,
   "metadata": {
    "collapsed": false
   },
   "outputs": [],
   "source": [
    "import matplotlib.pyplot as plt\n",
    "%matplotlib inline\n",
    "\n",
    "testaccu = {}\n",
    "for leaf in min_samples_leaf_values:\n",
    "    for split in min_samples_split_values:\n",
    "        model = DecisionTreeClassifier(criterion='entropy', min_samples_leaf= leaf, min_samples_split= split)\n",
    "        model.fit(train_df.drop('churndep',1), train_df.churndep)\n",
    "        y_test_hat = model.predict(test_df.drop('churndep',1))\n",
    "        accu = accuracy_score(test_df.churndep, y_test_hat)\n",
    "        if leaf in testaccu:\n",
    "            testaccu[leaf].append(accu)\n",
    "        else:\n",
    "            testaccu[leaf] = [accu]\n",
    "\n",
    "# Code here"
   ]
  },
  {
   "cell_type": "code",
   "execution_count": 284,
   "metadata": {
    "collapsed": false
   },
   "outputs": [
    {
     "data": {
      "image/png": "[encoded data removed]",
      "text/plain": [
       "<matplotlib.figure.Figure at 0x11a44ea58>"
      ]
     },
     "metadata": {},
     "output_type": "display_data"
    }
   ],
   "source": [
    "plt.figure(figsize=(8, 6), facecolor='w')\n",
    "for i in range(10):\n",
    "    lab = 'min slpit:'+'min_samples_split_values[i]'\n",
    "    plt.plot(min_samples_split_values,testaccu[min_samples_leaf_values[i]], label = 'min leaf:{}'.format(min_samples_leaf_values[i]))\n",
    "plt.legend(loc='lower right', fontsize=8)\n",
    "plt.xlabel('min split')\n",
    "plt.ylabel('test accuracy')\n",
    "# plt.ylim((0., 0.8))\n",
    "plt.legend(bbox_to_anchor=(1.05, 1), loc=2, borderaxespad=0.)\n",
    "plt.show()"
   ]
  },
  {
   "cell_type": "markdown",
   "metadata": {},
   "source": [
    "4\\. Which configuration returns the best accuracy? What is this accuracy? (Note, if you don't see much variation in the test set accuracy across values of min_samples_split or min_samples_leaf, try redoing the above steps with a different range of values)."
   ]
  },
  {
   "cell_type": "code",
   "execution_count": 285,
   "metadata": {
    "collapsed": false
   },
   "outputs": [
    {
     "data": {
      "text/plain": [
       "[0.59658805820371297,\n",
       " 0.59708981435022579,\n",
       " 0.59696437531359758,\n",
       " 0.59633718013045656,\n",
       " 0.5999749121926744,\n",
       " 0.5999749121926744,\n",
       " 0.59570998494731564,\n",
       " 0.59909683893627697,\n",
       " 0.59909683893627697,\n",
       " 0.59909683893627697]"
      ]
     },
     "execution_count": 285,
     "metadata": {},
     "output_type": "execute_result"
    }
   ],
   "source": [
    "# Code here\n",
    "each_leaf_max = []\n",
    "for i in range(10):\n",
    "    each_leaf_max.append(max(testaccu[min_samples_leaf_values[i]]))\n",
    "each_leaf_max"
   ]
  },
  {
   "cell_type": "code",
   "execution_count": 290,
   "metadata": {
    "collapsed": false
   },
   "outputs": [
    {
     "name": "stdout",
     "output_type": "stream",
     "text": [
      "best configuration: accuracy: 0.599974912193\n",
      "best configuration: min leaf: 762\n",
      "best configuration: min split: 1000\n"
     ]
    }
   ],
   "source": [
    "print('best configuration: accuracy:',max(each_leaf_max))\n",
    "print('best configuration: min leaf:', min_samples_leaf_values[np.argmax(each_leaf_max)])\n",
    "print('best configuration: min split:', min_samples_split_values[np.argmax(testaccu[min_samples_leaf_values[np.argmax(each_leaf_max)]])])"
   ]
  },
  {
   "cell_type": "markdown",
   "metadata": {},
   "source": [
    "5\\. If you were working for a marketing department, how would you use your churn production model in a real business environment? Explain why churn prediction might be good for the business and how one might improve churn by using this model."
   ]
  },
  {
   "cell_type": "markdown",
   "metadata": {},
   "source": [
    "Answer here!"
   ]
  },
  {
   "cell_type": "markdown",
   "metadata": {
    "collapsed": true
   },
   "source": [
    "Reducing customer churn is a key business goal for many companies. The ability to predict customer churn precisely can represent a huge additional potential revenue source. We can use the predictive outcomes to maintain our existing customers. After all, it is much more expensive and difficult for us to find new customers than retaining existed customers. $$$$We can (a) predict which customers are going to churn through churn analysis in advance and (b) know which kind of marketing actions have the greatest retention impact on every particular customer. Via these methods, a proportion of customer churn can be eliminated ."
   ]
  },
  {
   "cell_type": "code",
   "execution_count": null,
   "metadata": {
    "collapsed": true
   },
   "outputs": [],
   "source": []
  }
 ],
 "metadata": {
  "anaconda-cloud": {},
  "kernelspec": {
   "display_name": "Python 3",
   "language": "python",
   "name": "python3"
  },
  "language_info": {
   "codemirror_mode": {
    "name": "ipython",
    "version": 3
   },
   "file_extension": ".py",
   "mimetype": "text/x-python",
   "name": "python",
   "nbconvert_exporter": "python",
   "pygments_lexer": "ipython3",
   "version": "3.6.0"
  }
 },
 "nbformat": 4,
 "nbformat_minor": 0
}
